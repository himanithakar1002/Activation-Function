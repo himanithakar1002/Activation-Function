{
  "nbformat": 4,
  "nbformat_minor": 0,
  "metadata": {
    "colab": {
      "name": "Activation_Fn_Exponential_ReLU.ipynb",
      "provenance": [],
      "collapsed_sections": [],
      "authorship_tag": "ABX9TyMXimudwMWPsQU9R2FA40b5",
      "include_colab_link": true
    },
    "kernelspec": {
      "name": "python3",
      "display_name": "Python 3"
    }
  },
  "cells": [
    {
      "cell_type": "markdown",
      "metadata": {
        "id": "view-in-github",
        "colab_type": "text"
      },
      "source": [
        "<a href=\"https://colab.research.google.com/github/himanithakar1002/Activation-Function/blob/main/Activation_Fn_Exponential_ReLU.ipynb\" target=\"_parent\"><img src=\"https://colab.research.google.com/assets/colab-badge.svg\" alt=\"Open In Colab\"/></a>"
      ]
    },
    {
      "cell_type": "markdown",
      "metadata": {
        "id": "4hpqQ75n5m7t"
      },
      "source": [
        "# **20MCS0029 | Exponential ReLU**"
      ]
    },
    {
      "cell_type": "code",
      "metadata": {
        "id": "xFRPOEei7_wM"
      },
      "source": [
        "import numpy as np"
      ],
      "execution_count": 1,
      "outputs": []
    },
    {
      "cell_type": "code",
      "metadata": {
        "id": "hiTQYm_s50y2"
      },
      "source": [
        "def erelu(z,alpha):\r\n",
        "    return z if z >= 0 else alpha*(np.exp(z) -1)"
      ],
      "execution_count": 2,
      "outputs": []
    },
    {
      "cell_type": "code",
      "metadata": {
        "colab": {
          "base_uri": "https://localhost:8080/"
        },
        "id": "SDgmIB-O508C",
        "outputId": "836bb23c-63fe-4b09-a025-655829efe55b"
      },
      "source": [
        "print(\"Exponential ReLu for 10 is :\",erelu(10,3))\r\n",
        "print(\"Exponential ReLu for -10 is :\",erelu(-10,3))"
      ],
      "execution_count": 3,
      "outputs": [
        {
          "output_type": "stream",
          "text": [
            "Exponential ReLu for 10 is : 10\n",
            "Exponential ReLu for -10 is : -2.9998638002107123\n"
          ],
          "name": "stdout"
        }
      ]
    }
  ]
}