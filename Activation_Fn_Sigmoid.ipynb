{
  "nbformat": 4,
  "nbformat_minor": 0,
  "metadata": {
    "colab": {
      "name": "Activation_Fn_Sigmoid.ipynb",
      "provenance": [],
      "collapsed_sections": [],
      "authorship_tag": "ABX9TyM3ZQ60WM32DWntNnh3oj73",
      "include_colab_link": true
    },
    "kernelspec": {
      "name": "python3",
      "display_name": "Python 3"
    }
  },
  "cells": [
    {
      "cell_type": "markdown",
      "metadata": {
        "id": "view-in-github",
        "colab_type": "text"
      },
      "source": [
        "<a href=\"https://colab.research.google.com/github/himanithakar1002/Activation-Function/blob/main/Activation_Fn_Sigmoid.ipynb\" target=\"_parent\"><img src=\"https://colab.research.google.com/assets/colab-badge.svg\" alt=\"Open In Colab\"/></a>"
      ]
    },
    {
      "cell_type": "markdown",
      "metadata": {
        "id": "8q-ytSK1vJNR"
      },
      "source": [
        "# **20MCS0029 | Sigmoid Function**"
      ]
    },
    {
      "cell_type": "code",
      "metadata": {
        "colab": {
          "base_uri": "https://localhost:8080/"
        },
        "id": "uWJfnVGfvJow",
        "outputId": "fdb90436-e008-4f1a-c792-bf54dc72b8d4"
      },
      "source": [
        "import numpy as np\r\n",
        "import matplotlib.pyplot as plt\r\n",
        "%matplotlib inline\r\n",
        "def sigmoid(z):\r\n",
        " return 1 / (1 + np.exp(-z))\r\n",
        "print(\"Sigmoid of 4 is:\",sigmoid (4))"
      ],
      "execution_count": 7,
      "outputs": [
        {
          "output_type": "stream",
          "text": [
            "Sigmoid of 4 is: 0.9820137900379085\n"
          ],
          "name": "stdout"
        }
      ]
    },
    {
      "cell_type": "code",
      "metadata": {
        "colab": {
          "base_uri": "https://localhost:8080/"
        },
        "id": "yQQsU4SQvjqJ",
        "outputId": "aa36cf38-0ca9-4b47-bada-39abf5fbec5b"
      },
      "source": [
        "print(\"Sigmoid of positive number(5) is:\",sigmoid(5))"
      ],
      "execution_count": 2,
      "outputs": [
        {
          "output_type": "stream",
          "text": [
            "Sigmoid of positive number(5) is: 0.9933071490757153\n"
          ],
          "name": "stdout"
        }
      ]
    },
    {
      "cell_type": "code",
      "metadata": {
        "colab": {
          "base_uri": "https://localhost:8080/"
        },
        "id": "7J3GCBw1v9ZQ",
        "outputId": "b05d09ee-73dd-4450-f096-6d49589a6b05"
      },
      "source": [
        "print(\"Sigmoid of negative number(-5) is:\",sigmoid(-5))"
      ],
      "execution_count": 4,
      "outputs": [
        {
          "output_type": "stream",
          "text": [
            "Sigmoid of negative number(-5) is: 0.0066928509242848554\n"
          ],
          "name": "stdout"
        }
      ]
    },
    {
      "cell_type": "code",
      "metadata": {
        "colab": {
          "base_uri": "https://localhost:8080/"
        },
        "id": "OiaCjstxvraO",
        "outputId": "081e04b6-ba0a-41a8-a8df-e4e089d56e93"
      },
      "source": [
        "print(\"Difference between Derivative of Sigmoid (5) and (-5) is:\", sigmoid(5)*(1- sigmoid(5))-sigmoid(-5)*(1- sigmoid(-5)))"
      ],
      "execution_count": 3,
      "outputs": [
        {
          "output_type": "stream",
          "text": [
            "Difference between Derivative of Sigmoid (5) and (-5) is: -1.214306433183765e-16\n"
          ],
          "name": "stdout"
        }
      ]
    },
    {
      "cell_type": "code",
      "metadata": {
        "colab": {
          "base_uri": "https://localhost:8080/"
        },
        "id": "WWweURhgv0jg",
        "outputId": "e2dc522e-99cf-4496-caa1-6cfbf02b0d21"
      },
      "source": [
        "print(\"Difference between sigmoid of 14 and 15:\",sigmoid(15)-sigmoid(14))"
      ],
      "execution_count": 5,
      "outputs": [
        {
          "output_type": "stream",
          "text": [
            "Difference between sigmoid of 14 and 15: 5.256258007735326e-07\n"
          ],
          "name": "stdout"
        }
      ]
    }
  ]
}