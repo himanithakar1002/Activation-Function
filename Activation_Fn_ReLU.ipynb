{
  "nbformat": 4,
  "nbformat_minor": 0,
  "metadata": {
    "colab": {
      "name": "Activation_Fn_ReLU.ipynb",
      "provenance": [],
      "collapsed_sections": [],
      "authorship_tag": "ABX9TyP1iuva8T91OF7/Ewv1Wkgv",
      "include_colab_link": true
    },
    "kernelspec": {
      "name": "python3",
      "display_name": "Python 3"
    },
    "accelerator": "GPU"
  },
  "cells": [
    {
      "cell_type": "markdown",
      "metadata": {
        "id": "view-in-github",
        "colab_type": "text"
      },
      "source": [
        "<a href=\"https://colab.research.google.com/github/himanithakar1002/Activation-Function/blob/main/Activation_Fn_ReLU.ipynb\" target=\"_parent\"><img src=\"https://colab.research.google.com/assets/colab-badge.svg\" alt=\"Open In Colab\"/></a>"
      ]
    },
    {
      "cell_type": "markdown",
      "metadata": {
        "id": "objXNioR24EJ"
      },
      "source": [
        "# 20MCS0029 | ReLU Function"
      ]
    },
    {
      "cell_type": "code",
      "metadata": {
        "id": "e8s_e3cn2l4_"
      },
      "source": [
        "import numpy as np"
      ],
      "execution_count": 1,
      "outputs": []
    },
    {
      "cell_type": "code",
      "metadata": {
        "id": "ZZFlCfCA23eF"
      },
      "source": [
        "def relu(z):\r\n",
        "  return max(0, z)"
      ],
      "execution_count": 2,
      "outputs": []
    },
    {
      "cell_type": "code",
      "metadata": {
        "colab": {
          "base_uri": "https://localhost:8080/"
        },
        "id": "4ifpLDfE3epc",
        "outputId": "54fc6da8-6174-41a9-a7f4-06a558f4175e"
      },
      "source": [
        "z= 10\r\n",
        "print(\"ReLU of \"+str(z)+\" is :\",relu(z))"
      ],
      "execution_count": 3,
      "outputs": [
        {
          "output_type": "stream",
          "text": [
            "ReLU of 10 is : 10\n"
          ],
          "name": "stdout"
        }
      ]
    },
    {
      "cell_type": "code",
      "metadata": {
        "colab": {
          "base_uri": "https://localhost:8080/"
        },
        "id": "sXiVgj9F3e0w",
        "outputId": "d27b0406-b1ae-414c-ea94-8d0a79c4f4ae"
      },
      "source": [
        "z= -0.4\r\n",
        "print(\"ReLU of \"+str(z)+\" is :\",relu(z)) \r\n",
        "z= -50\r\n",
        "print(\"ReLU of \"+str(z)+\" is :\",z * (z > 0))"
      ],
      "execution_count": 4,
      "outputs": [
        {
          "output_type": "stream",
          "text": [
            "ReLU of -0.4 is : 0\n",
            "ReLU of -50 is : 0\n"
          ],
          "name": "stdout"
        }
      ]
    }
  ]
}