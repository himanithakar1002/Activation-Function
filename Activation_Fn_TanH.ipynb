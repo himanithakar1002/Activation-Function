{
  "nbformat": 4,
  "nbformat_minor": 0,
  "metadata": {
    "colab": {
      "name": "Activation_Fn_TanH.ipynb",
      "provenance": [],
      "authorship_tag": "ABX9TyMm+2e/IMU0tvOmDFQvjO61",
      "include_colab_link": true
    },
    "kernelspec": {
      "name": "python3",
      "display_name": "Python 3"
    }
  },
  "cells": [
    {
      "cell_type": "markdown",
      "metadata": {
        "id": "view-in-github",
        "colab_type": "text"
      },
      "source": [
        "<a href=\"https://colab.research.google.com/github/himanithakar1002/Activation-Function/blob/main/Activation_Fn_TanH.ipynb\" target=\"_parent\"><img src=\"https://colab.research.google.com/assets/colab-badge.svg\" alt=\"Open In Colab\"/></a>"
      ]
    },
    {
      "cell_type": "markdown",
      "metadata": {
        "id": "Csi-f-IR0zu3"
      },
      "source": [
        "**20MCS0029** | **TanH** **Function** \r\n"
      ]
    },
    {
      "cell_type": "code",
      "metadata": {
        "id": "6rex-tIKzA2V"
      },
      "source": [
        "import numpy as np"
      ],
      "execution_count": 1,
      "outputs": []
    },
    {
      "cell_type": "code",
      "metadata": {
        "id": "MenUgai-1M4W"
      },
      "source": [
        "def tanh(z):\r\n",
        " return np.tanh(z)"
      ],
      "execution_count": 2,
      "outputs": []
    },
    {
      "cell_type": "code",
      "metadata": {
        "colab": {
          "base_uri": "https://localhost:8080/"
        },
        "id": "F88OUqdl1M-4",
        "outputId": "1ac40333-02e3-42c3-e03a-4ea3bded79c3"
      },
      "source": [
        "print(\"tanh of 4 is:\",tanh(4))"
      ],
      "execution_count": 3,
      "outputs": [
        {
          "output_type": "stream",
          "text": [
            "tanh of 4 is: 0.999329299739067\n"
          ],
          "name": "stdout"
        }
      ]
    },
    {
      "cell_type": "code",
      "metadata": {
        "colab": {
          "base_uri": "https://localhost:8080/"
        },
        "id": "AbOkN44X1NLu",
        "outputId": "4f7bb8e1-1095-4d8b-becd-d1749f617d72"
      },
      "source": [
        "print(\"tanh of positive number(15) is:\",tanh(15))"
      ],
      "execution_count": 4,
      "outputs": [
        {
          "output_type": "stream",
          "text": [
            "tanh of positive number(15) is: 0.9999999999998128\n"
          ],
          "name": "stdout"
        }
      ]
    },
    {
      "cell_type": "code",
      "metadata": {
        "colab": {
          "base_uri": "https://localhost:8080/"
        },
        "id": "3SoVbpFX1NVA",
        "outputId": "977c6bc5-7fa6-449e-9016-dfdf593640b5"
      },
      "source": [
        "print(\"tanh of positive number(-15) is:\",tanh(-15))"
      ],
      "execution_count": 5,
      "outputs": [
        {
          "output_type": "stream",
          "text": [
            "tanh of positive number(-15) is: -0.9999999999998128\n"
          ],
          "name": "stdout"
        }
      ]
    },
    {
      "cell_type": "code",
      "metadata": {
        "colab": {
          "base_uri": "https://localhost:8080/"
        },
        "id": "2iVCpFri1Y8v",
        "outputId": "022169e3-0994-48a4-b847-03a71d3baabf"
      },
      "source": [
        "print(\"Difference between tanh of 14 and 15:\",np.tanh(15)-np.tanh(14))"
      ],
      "execution_count": 7,
      "outputs": [
        {
          "output_type": "stream",
          "text": [
            "Difference between tanh of 14 and 15: 1.1957101975212936e-12\n"
          ],
          "name": "stdout"
        }
      ]
    }
  ]
}