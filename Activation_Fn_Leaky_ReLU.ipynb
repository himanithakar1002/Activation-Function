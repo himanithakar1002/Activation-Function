{
  "nbformat": 4,
  "nbformat_minor": 0,
  "metadata": {
    "colab": {
      "name": "Activation_Fn_Leaky_ReLU.ipynb",
      "provenance": [],
      "collapsed_sections": [],
      "authorship_tag": "ABX9TyNYJQDbBdk8TMj7VjLCXz2w",
      "include_colab_link": true
    },
    "kernelspec": {
      "name": "python3",
      "display_name": "Python 3"
    }
  },
  "cells": [
    {
      "cell_type": "markdown",
      "metadata": {
        "id": "view-in-github",
        "colab_type": "text"
      },
      "source": [
        "<a href=\"https://colab.research.google.com/github/himanithakar1002/Activation-Function/blob/main/Activation_Fn_Leaky_ReLU.ipynb\" target=\"_parent\"><img src=\"https://colab.research.google.com/assets/colab-badge.svg\" alt=\"Open In Colab\"/></a>"
      ]
    },
    {
      "cell_type": "markdown",
      "metadata": {
        "id": "w8cuA6Ex4ac_"
      },
      "source": [
        "# **20MCS0029 | Leaky ReLU**"
      ]
    },
    {
      "cell_type": "code",
      "metadata": {
        "id": "c_y5Qc_j4atV"
      },
      "source": [
        "import numpy as np"
      ],
      "execution_count": 1,
      "outputs": []
    },
    {
      "cell_type": "code",
      "metadata": {
        "id": "XhzqKGjV4swg"
      },
      "source": [
        "def leakyrelu(z):\r\n",
        "  return np.maximum(0.01 * z, z)"
      ],
      "execution_count": 2,
      "outputs": []
    },
    {
      "cell_type": "code",
      "metadata": {
        "colab": {
          "base_uri": "https://localhost:8080/"
        },
        "id": "f524Y0Wf4s99",
        "outputId": "34ef7d71-4a9a-46ae-df7f-7f9ccdbee2a9"
      },
      "source": [
        "z= 10\r\n",
        "print(\"ReLU of \"+str(z)+\" is :\",leakyrelu(z))"
      ],
      "execution_count": 3,
      "outputs": [
        {
          "output_type": "stream",
          "text": [
            "ReLU of 10 is : 10.0\n"
          ],
          "name": "stdout"
        }
      ]
    },
    {
      "cell_type": "code",
      "metadata": {
        "colab": {
          "base_uri": "https://localhost:8080/"
        },
        "id": "bbeaKdCF4tBb",
        "outputId": "1af818c0-ead8-4108-b2cc-050f4258caa0"
      },
      "source": [
        "z= -1\r\n",
        "print(\"ReLU of \"+str(z)+\" is :\",leakyrelu(z))"
      ],
      "execution_count": 4,
      "outputs": [
        {
          "output_type": "stream",
          "text": [
            "ReLU of -1 is : -0.01\n"
          ],
          "name": "stdout"
        }
      ]
    }
  ]
}